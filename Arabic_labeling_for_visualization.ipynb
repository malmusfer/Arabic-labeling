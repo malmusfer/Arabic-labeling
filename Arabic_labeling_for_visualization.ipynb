{
  "nbformat": 4,
  "nbformat_minor": 0,
  "metadata": {
    "colab": {
      "name": "Arabic-labeling for visualization.ipynb",
      "provenance": [],
      "include_colab_link": true
    },
    "kernelspec": {
      "name": "python3",
      "display_name": "Python 3"
    }
  },
  "cells": [
    {
      "cell_type": "markdown",
      "metadata": {
        "id": "view-in-github",
        "colab_type": "text"
      },
      "source": [
        "<a href=\"https://colab.research.google.com/github/malmusfer/Arabic-labeling/blob/master/Arabic_labeling_for_visualization.ipynb\" target=\"_parent\"><img src=\"https://colab.research.google.com/assets/colab-badge.svg\" alt=\"Open In Colab\"/></a>"
      ]
    },
    {
      "cell_type": "markdown",
      "metadata": {
        "id": "0ttAsWJ0bRjR",
        "colab_type": "text"
      },
      "source": [
        "![matplotlib](https://upload.wikimedia.org/wikipedia/en/thumb/5/56/Matplotlib_logo.svg/300px-Matplotlib_logo.svg.png)"
      ]
    },
    {
      "cell_type": "markdown",
      "metadata": {
        "id": "j-DP8bBWbk7B",
        "colab_type": "text"
      },
      "source": [
        "# Mini-Project: Communicate Data Findings\n",
        "## Arabic-labels plots\n",
        "## by: Almutairi, Muhanned\n",
        "![alt text](https://upload.wikimedia.org/wikipedia/commons/thumb/8/80/LinkedIn_Logo_2013.svg/200px-LinkedIn_Logo_2013.svg.png) [LinkedIn profile](https://www.linkedin.com/in/muhanned-almutairi-5bb1a5a0/)"
      ]
    },
    {
      "cell_type": "markdown",
      "metadata": {
        "id": "HqhUL7KbdPby",
        "colab_type": "text"
      },
      "source": [
        "This is a mini project that I will illustrate the use of the Arabic-reshaper library in the labeling plots to communicate your finding for a specifics audience. In this project, we will create random data for the purpose of the demonstration."
      ]
    },
    {
      "cell_type": "markdown",
      "metadata": {
        "id": "vNXa10ROdYfI",
        "colab_type": "text"
      },
      "source": [
        "## Table of Contents\n",
        "- [Introduction](#intro)\n",
        "- [The Code](#Code)"
      ]
    },
    {
      "cell_type": "markdown",
      "metadata": {
        "id": "oiXppzyrd0od",
        "colab_type": "text"
      },
      "source": [
        "<a id='intro'></a>\n",
        "## Introduction\n",
        "\n",
        "The [Arabic-reshaper](https://pypi.org/project/arabic-reshaper/) package was created by [Abdullah Diab] (https://pypi.org/user/mpcabd/). The package is used to reconstruct Arabic sentences to be used in applications that don't support Arabic.\n",
        "\n",
        "When you try to print Arabic text in an application – or a library – that doesn’t support Arabic you’re pretty likely to end up with something that looks like this:\n",
        "\n",
        "![alt text](https://mpcabd.xyz/wp-content/uploads/2012/05/arabic-1-300x63.png)\n",
        "\n",
        "\n",
        "We have two problems here, first, the characters are in the isolated form, which means that every character is rendered regardless of its surroundings, and second is that the text is written from left to right.\n",
        "\n",
        "\n",
        "To solve the latter issue all we have to do is to use the [Unicode bidirectional algorithm](http://unicode.org/reports/tr9/), which is implemented purely in Python in `python-bidi`. If you use it you’ll end up with something that looks like this:\n",
        "\n",
        "![alt text](https://mpcabd.xyz/wp-content/uploads/2012/05/arabic-6-300x68.png)\n",
        "\n",
        "The only issue left to solve is to reshape those characters and replace them with their correct shapes according to their surroundings.\n",
        "\n",
        "[Mr. Abdullah Diab](https://mpcabd.xyz/python-arabic-text-reshaper/) solved this issue more than four years ago in a small application that wrote in Visual Basic, The solution was naive but it solved it well.\n"
      ]
    },
    {
      "cell_type": "markdown",
      "metadata": {
        "id": "nck_rlpWd5pZ",
        "colab_type": "text"
      },
      "source": [
        "<a id='Code'></a>\n",
        "## The Code"
      ]
    },
    {
      "cell_type": "markdown",
      "metadata": {
        "id": "8GIcph24hhUs",
        "colab_type": "text"
      },
      "source": [
        "It required to install the below packages"
      ]
    },
    {
      "cell_type": "code",
      "metadata": {
        "id": "wg5aXcQ9ho__",
        "colab_type": "code",
        "colab": {}
      },
      "source": [
        "!pip install arabic-reshaper\n",
        "!pip install python-bidi"
      ],
      "execution_count": null,
      "outputs": []
    },
    {
      "cell_type": "code",
      "metadata": {
        "id": "dt3JOwc9fuwV",
        "colab_type": "code",
        "colab": {
          "base_uri": "https://localhost:8080/",
          "height": 571
        },
        "outputId": "d9935c6f-d529-40e6-b2d8-ad6996c82af7"
      },
      "source": [
        "#import the libraries\n",
        "import arabic_reshaper\n",
        "import matplotlib.pyplot as plt\n",
        "from bidi.algorithm import get_display\n",
        "\n",
        "#create a random data\n",
        "x = [2, 4, 6, 8, 10]\n",
        "y = [6, 7, 8, 9, 10]\n",
        "\n",
        "#now , the coding\n",
        "xlbl = get_display(arabic_reshaper.reshape(\"الفواصل\"))\n",
        "ylbl = get_display(arabic_reshaper.reshape(\"الترتيبات\"))\n",
        "\n",
        "#plotting features\n",
        "plt.bar(x, y, color='red')\n",
        "plt.xlabel(xlbl)\n",
        "plt.ylabel(ylbl)\n",
        "plt.show()"
      ],
      "execution_count": null,
      "outputs": [
        {
          "output_type": "stream",
          "text": [
            "Collecting arabic-reshaper\n",
            "  Downloading https://files.pythonhosted.org/packages/41/55/e905af99b0172b5550c5e22d76b7737004495354b5f1094adf7cb2a41659/arabic_reshaper-2.1.0.tar.gz\n",
            "Requirement already satisfied: future in /usr/local/lib/python3.6/dist-packages (from arabic-reshaper) (0.16.0)\n",
            "Requirement already satisfied: setuptools in /usr/local/lib/python3.6/dist-packages (from arabic-reshaper) (47.3.1)\n",
            "Building wheels for collected packages: arabic-reshaper\n",
            "  Building wheel for arabic-reshaper (setup.py) ... \u001b[?25l\u001b[?25hdone\n",
            "  Created wheel for arabic-reshaper: filename=arabic_reshaper-2.1.0-cp36-none-any.whl size=16501 sha256=605fc5c9753b4b60f2373119043db91bfaaf08e5302b3598f03934f97b060bb7\n",
            "  Stored in directory: /root/.cache/pip/wheels/a9/e6/ec/2ba48138d4447d40442dd6ba3bf6b92d9c6afd74e9c720c6fe\n",
            "Successfully built arabic-reshaper\n",
            "Installing collected packages: arabic-reshaper\n",
            "Successfully installed arabic-reshaper-2.1.0\n",
            "Collecting python-bidi\n",
            "  Downloading https://files.pythonhosted.org/packages/33/b0/f942d146a2f457233baaafd6bdf624eba8e0f665045b4abd69d1b62d097d/python_bidi-0.4.2-py2.py3-none-any.whl\n",
            "Requirement already satisfied: six in /usr/local/lib/python3.6/dist-packages (from python-bidi) (1.12.0)\n",
            "Installing collected packages: python-bidi\n",
            "Successfully installed python-bidi-0.4.2\n"
          ],
          "name": "stdout"
        },
        {
          "output_type": "display_data",
          "data": {
            "image/png": "[encoded data removed]",
            "text/plain": [
              "<Figure size 432x288 with 1 Axes>"
            ]
          },
          "metadata": {
            "tags": [],
            "needs_background": "light"
          }
        }
      ]
    }
  ]
}